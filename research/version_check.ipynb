{
 "cells": [
  {
   "cell_type": "code",
   "execution_count": 2,
   "metadata": {},
   "outputs": [
    {
     "name": "stdout",
     "output_type": "stream",
     "text": [
      "boto3 version: 1.36.18\n",
      "pandas version: 2.2.3\n",
      "numpy version: 2.0.2\n",
      "matplotlib version: 3.10.0\n",
      "seaborn version: 0.13.2\n",
      "scipy version: 1.15.1\n",
      "tensorflow version: 2.18.0\n",
      "dvc version: 3.59.0\n",
      "mlflow version: 2.20.1\n",
      "flask version: 3.1.0\n",
      "pyYAML version: 6.0.2\n",
      "tqdm version: 4.67.1\n",
      "joblib version: 1.4.2\n"
     ]
    }
   ],
   "source": [
    "import boto3\n",
    "import pandas as pd\n",
    "import numpy as np\n",
    "import matplotlib\n",
    "import seaborn as sns\n",
    "import scipy\n",
    "import tensorflow as tf\n",
    "import dvc\n",
    "import mlflow\n",
    "import importlib.metadata\n",
    "import yaml\n",
    "import tqdm\n",
    "import joblib\n",
    "import flask\n",
    "\n",
    "print(f\"boto3 version: {boto3.__version__}\")\n",
    "print(f\"pandas version: {pd.__version__}\")\n",
    "print(f\"numpy version: {np.__version__}\")\n",
    "print(f\"matplotlib version: {matplotlib.__version__}\")\n",
    "print(f\"seaborn version: {sns.__version__}\")\n",
    "print(f\"scipy version: {scipy.__version__}\")\n",
    "print(f\"tensorflow version: {tf.__version__}\")\n",
    "print(f\"dvc version: {dvc.__version__}\")\n",
    "print(f\"mlflow version: {mlflow.__version__}\")\n",
    "print(f\"flask version: {importlib.metadata.version('flask')}\")\n",
    "print(f\"pyYAML version: {yaml.__version__}\")\n",
    "print(f\"tqdm version: {tqdm.__version__}\")\n",
    "print(f\"joblib version: {joblib.__version__}\")\n"
   ]
  },
  {
   "cell_type": "code",
   "execution_count": null,
   "metadata": {},
   "outputs": [],
   "source": []
  }
 ],
 "metadata": {
  "kernelspec": {
   "display_name": "MentalHealthPredictor",
   "language": "python",
   "name": "python3"
  },
  "language_info": {
   "codemirror_mode": {
    "name": "ipython",
    "version": 3
   },
   "file_extension": ".py",
   "mimetype": "text/x-python",
   "name": "python",
   "nbconvert_exporter": "python",
   "pygments_lexer": "ipython3",
   "version": "3.12.0"
  }
 },
 "nbformat": 4,
 "nbformat_minor": 2
}
